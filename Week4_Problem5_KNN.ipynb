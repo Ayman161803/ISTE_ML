{
 "cells": [
  {
   "cell_type": "code",
   "execution_count": 41,
   "metadata": {},
   "outputs": [],
   "source": [
    "import numpy as np\n",
    "import pandas as pd\n",
    "import matplotlib.pyplot as plt\n",
    "import math"
   ]
  },
  {
   "cell_type": "code",
   "execution_count": 61,
   "metadata": {},
   "outputs": [
    {
     "data": {
      "text/html": [
       "<div>\n",
       "<style scoped>\n",
       "    .dataframe tbody tr th:only-of-type {\n",
       "        vertical-align: middle;\n",
       "    }\n",
       "\n",
       "    .dataframe tbody tr th {\n",
       "        vertical-align: top;\n",
       "    }\n",
       "\n",
       "    .dataframe thead th {\n",
       "        text-align: right;\n",
       "    }\n",
       "</style>\n",
       "<table border=\"1\" class=\"dataframe\">\n",
       "  <thead>\n",
       "    <tr style=\"text-align: right;\">\n",
       "      <th></th>\n",
       "      <th>X1</th>\n",
       "      <th>X2</th>\n",
       "      <th>Y</th>\n",
       "    </tr>\n",
       "  </thead>\n",
       "  <tbody>\n",
       "    <tr>\n",
       "      <th>0</th>\n",
       "      <td>7</td>\n",
       "      <td>7</td>\n",
       "      <td>0</td>\n",
       "    </tr>\n",
       "    <tr>\n",
       "      <th>1</th>\n",
       "      <td>7</td>\n",
       "      <td>4</td>\n",
       "      <td>0</td>\n",
       "    </tr>\n",
       "    <tr>\n",
       "      <th>2</th>\n",
       "      <td>3</td>\n",
       "      <td>4</td>\n",
       "      <td>1</td>\n",
       "    </tr>\n",
       "    <tr>\n",
       "      <th>3</th>\n",
       "      <td>1</td>\n",
       "      <td>4</td>\n",
       "      <td>1</td>\n",
       "    </tr>\n",
       "  </tbody>\n",
       "</table>\n",
       "</div>"
      ],
      "text/plain": [
       "   X1  X2  Y\n",
       "0   7   7  0\n",
       "1   7   4  0\n",
       "2   3   4  1\n",
       "3   1   4  1"
      ]
     },
     "execution_count": 61,
     "metadata": {},
     "output_type": "execute_result"
    }
   ],
   "source": [
    "df=pd.read_excel(\"acid_durability_dataset.xlsx\")\n",
    "df.head()\n",
    "# 1-> good\n",
    "# 0->bad"
   ]
  },
  {
   "cell_type": "markdown",
   "metadata": {},
   "source": [
    "### Visualising the points"
   ]
  },
  {
   "cell_type": "code",
   "execution_count": 62,
   "metadata": {},
   "outputs": [
    {
     "data": {
      "image/png": "[encoded data removed]",
      "text/plain": [
       "<Figure size 432x288 with 1 Axes>"
      ]
     },
     "metadata": {
      "needs_background": "light"
     },
     "output_type": "display_data"
    }
   ],
   "source": [
    "X1=3\n",
    "X2=7\n",
    "plt.scatter(df.loc[df[\"Y\"]==0][\"X1\"],df.loc[df[\"Y\"]==0][\"X2\"],color=\"b\")\n",
    "plt.scatter(df.loc[df[\"Y\"]==1][\"X1\"],df.loc[df[\"Y\"]==1][\"X2\"],color=\"r\")\n",
    "plt.scatter(X1,X2,color=\"black\")\n",
    "for i in range(0,4):\n",
    "    k=int (df.iloc[i,0])\n",
    "    f=int (df.iloc[i,1])\n",
    "    plt.plot([3,k],[7,f],color=\"black\",ls=\"--\")    \n",
    "plt.xticks(range(0,10))\n",
    "plt.yticks(range(0,10))\n",
    "plt.xlabel(\"Acid_Durability\")\n",
    "plt.ylabel(\"Strength\")\n",
    "plt.show()"
   ]
  },
  {
   "cell_type": "markdown",
   "metadata": {},
   "source": [
    "###### from the plot, it is obvious that the point is of \"good\" class (red). However, let us perform the compution for the sake of it"
   ]
  },
  {
   "cell_type": "markdown",
   "metadata": {},
   "source": [
    "\n",
    "\n",
    "\n",
    "### Calculating the distance"
   ]
  },
  {
   "cell_type": "code",
   "execution_count": 78,
   "metadata": {},
   "outputs": [],
   "source": [
    "from statistics import mode"
   ]
  },
  {
   "cell_type": "code",
   "execution_count": 74,
   "metadata": {},
   "outputs": [
    {
     "data": {
      "text/plain": [
       "[0, 0, 1]"
      ]
     },
     "execution_count": 74,
     "metadata": {},
     "output_type": "execute_result"
    }
   ],
   "source": [
    "Distance=[]\n",
    "for i in range(0,df.shape[0]):\n",
    "    x=int (df.iloc[i,0])#x coordinate\n",
    "    y=int (df.iloc[i,1])#y coordinate\n",
    "    distance=math.pow(math.pow(X1-x,2)+math.pow(X2-y,2),0.5)\n",
    "    Distance.append(distance)\n",
    "df[\"Distance\"]=Distance\n",
    "\n",
    "#sorting the values by distance\n",
    "df.sort_values(by=\"Distance\")\n",
    "\n",
    "#calculating the mode by considering k=3 nearest neighbours\n",
    "k=3\n",
    "labels_of_k_nearest=[]\n",
    "for i in range(0,k):\n",
    "    labels_of_k_nearest.append(df.iloc[i,2])\n",
    "\n",
    "labels_of_k_nearest"
   ]
  },
  {
   "cell_type": "code",
   "execution_count": 80,
   "metadata": {},
   "outputs": [
    {
     "data": {
      "text/plain": [
       "0"
      ]
     },
     "execution_count": 80,
     "metadata": {},
     "output_type": "execute_result"
    }
   ],
   "source": [
    "mode(labels_of_k_nearest)"
   ]
  }
 ],
 "metadata": {
  "kernelspec": {
   "display_name": "Python 3",
   "language": "python",
   "name": "python3"
  },
  "language_info": {
   "codemirror_mode": {
    "name": "ipython",
    "version": 3
   },
   "file_extension": ".py",
   "mimetype": "text/x-python",
   "name": "python",
   "nbconvert_exporter": "python",
   "pygments_lexer": "ipython3",
   "version": "3.8.5"
  }
 },
 "nbformat": 4,
 "nbformat_minor": 4
}
